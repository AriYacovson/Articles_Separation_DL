{
  "cells": [
    {
      "cell_type": "markdown",
      "metadata": {
        "id": "sTVFovFmzTE4"
      },
      "source": [
        "# Configuration\n",
        "\n",
        "\n",
        "1.   importing librarys\n",
        "2.   checking gpu\n",
        "3.   mounting google drive\n",
        "\n",
        "\n",
        "\n"
      ]
    },
    {
      "cell_type": "markdown",
      "source": [],
      "metadata": {
        "id": "2KXReoAhBDos"
      }
    },
    {
      "cell_type": "code",
      "execution_count": 2,
      "metadata": {
        "id": "bOAMH_yhSU7R"
      },
      "outputs": [],
      "source": [
        "# importing all librarys\n",
        "from google.colab import drive\n",
        "import tensorflow as tf\n",
        "import os\n",
        "from PIL import Image\n",
        "import numpy as np\n",
        "import PIL.ImageShow\n",
        "import time\n",
        "from tensorflow.keras import layers\n",
        "from sklearn.model_selection import train_test_split\n",
        "from sklearn.preprocessing import LabelBinarizer\n",
        "import matplotlib.pyplot as plt\n",
        "\n"
      ]
    },
    {
      "cell_type": "code",
      "execution_count": 3,
      "metadata": {
        "colab": {
          "base_uri": "https://localhost:8080/"
        },
        "id": "5WR1fgaxb5L7",
        "outputId": "c919d79b-dfbc-4cef-aee4-47b43aabbd5f"
      },
      "outputs": [
        {
          "output_type": "stream",
          "name": "stdout",
          "text": [
            "Sun Aug 13 04:09:55 2023       \n",
            "+-----------------------------------------------------------------------------+\n",
            "| NVIDIA-SMI 525.105.17   Driver Version: 525.105.17   CUDA Version: 12.0     |\n",
            "|-------------------------------+----------------------+----------------------+\n",
            "| GPU  Name        Persistence-M| Bus-Id        Disp.A | Volatile Uncorr. ECC |\n",
            "| Fan  Temp  Perf  Pwr:Usage/Cap|         Memory-Usage | GPU-Util  Compute M. |\n",
            "|                               |                      |               MIG M. |\n",
            "|===============================+======================+======================|\n",
            "|   0  Tesla T4            Off  | 00000000:00:04.0 Off |                    0 |\n",
            "| N/A   54C    P8    10W /  70W |      0MiB / 15360MiB |      0%      Default |\n",
            "|                               |                      |                  N/A |\n",
            "+-------------------------------+----------------------+----------------------+\n",
            "                                                                               \n",
            "+-----------------------------------------------------------------------------+\n",
            "| Processes:                                                                  |\n",
            "|  GPU   GI   CI        PID   Type   Process name                  GPU Memory |\n",
            "|        ID   ID                                                   Usage      |\n",
            "|=============================================================================|\n",
            "|  No running processes found                                                 |\n",
            "+-----------------------------------------------------------------------------+\n"
          ]
        }
      ],
      "source": [
        "gpu_info = !nvidia-smi\n",
        "gpu_info = '\\n'.join(gpu_info)\n",
        "if gpu_info.find('failed') >= 0:\n",
        "  print('Not connected to a GPU')\n",
        "else:\n",
        "  print(gpu_info)"
      ]
    },
    {
      "cell_type": "code",
      "execution_count": 4,
      "metadata": {
        "colab": {
          "base_uri": "https://localhost:8080/"
        },
        "id": "ep_xQP27XB9H",
        "outputId": "8b38220a-a6ae-4189-af62-93c7ed2441a9"
      },
      "outputs": [
        {
          "output_type": "stream",
          "name": "stdout",
          "text": [
            "Found GPU at: /device:GPU:0\n"
          ]
        }
      ],
      "source": [
        "# run only if using gpu!!\n",
        "import tensorflow as tf\n",
        "device_name = tf.test.gpu_device_name()\n",
        "if device_name != '/device:GPU:0':\n",
        "  raise SystemError('GPU device not found')\n",
        "print('Found GPU at: {}'.format(device_name))"
      ]
    },
    {
      "cell_type": "code",
      "execution_count": 5,
      "metadata": {
        "colab": {
          "base_uri": "https://localhost:8080/"
        },
        "id": "fq5FQuH8STa_",
        "outputId": "36c5d128-01a8-437f-aa48-5a527cce8859"
      },
      "outputs": [
        {
          "output_type": "stream",
          "name": "stdout",
          "text": [
            "Drive already mounted at /content/drive; to attempt to forcibly remount, call drive.mount(\"/content/drive\", force_remount=True).\n"
          ]
        }
      ],
      "source": [
        "from google.colab import drive\n",
        "drive.mount('/content/drive')"
      ]
    },
    {
      "cell_type": "code",
      "execution_count": null,
      "metadata": {
        "id": "rjF27CYcljmB"
      },
      "outputs": [],
      "source": []
    },
    {
      "cell_type": "markdown",
      "metadata": {
        "id": "mvlWNmj_sUA4"
      },
      "source": [
        "# load"
      ]
    },
    {
      "cell_type": "code",
      "execution_count": 13,
      "metadata": {
        "colab": {
          "base_uri": "https://localhost:8080/"
        },
        "id": "X7t2b9IMsWrQ",
        "outputId": "31f9edb0-5484-498d-aa99-18ec4fd4ec49"
      },
      "outputs": [
        {
          "output_type": "stream",
          "name": "stdout",
          "text": [
            "Found 1024 files belonging to 2 classes.\n",
            "Using 820 files for training.\n",
            "Found 1024 files belonging to 2 classes.\n",
            "Using 204 files for validation.\n"
          ]
        }
      ],
      "source": [
        "BATCH_SIZE = 32\n",
        "IMG_SIZE = (224, 224)\n",
        "directory = '/content/drive/MyDrive/Articles_Seperation_DL/Split_Data/Test'\n",
        "train_dataset = tf.keras.utils.image_dataset_from_directory(directory,\n",
        "                                                          batch_size=BATCH_SIZE,\n",
        "                                                          image_size=IMG_SIZE,\n",
        "                                                          subset='training',\n",
        "                                                          shuffle=True,\n",
        "                                                          seed=42,\n",
        "                                                          validation_split=0.2)\n",
        "validation_dataset = tf.keras.utils.image_dataset_from_directory(directory,\n",
        "                                             batch_size=BATCH_SIZE,\n",
        "                                             image_size=IMG_SIZE,\n",
        "                                             subset='validation',\n",
        "                                             validation_split=0.2,\n",
        "                                             seed=42,\n",
        "                                             shuffle=True)"
      ]
    },
    {
      "cell_type": "code",
      "execution_count": 14,
      "metadata": {
        "id": "iLfV9EifuTgF"
      },
      "outputs": [],
      "source": [
        "AUTOTUNE = tf.data.experimental.AUTOTUNE\n",
        "train_dataset = train_dataset.prefetch(buffer_size=AUTOTUNE)"
      ]
    },
    {
      "cell_type": "code",
      "execution_count": 15,
      "metadata": {
        "id": "_H-6xcow2AtL"
      },
      "outputs": [],
      "source": [
        "validation_dataset = validation_dataset.prefetch(buffer_size=AUTOTUNE)"
      ]
    },
    {
      "cell_type": "code",
      "execution_count": 16,
      "metadata": {
        "colab": {
          "base_uri": "https://localhost:8080/"
        },
        "id": "tpGWnNtYwYUx",
        "outputId": "9f8852f6-d1c2-4c6d-f146-99ae2e156f44"
      },
      "outputs": [
        {
          "output_type": "stream",
          "name": "stdout",
          "text": [
            "<_PrefetchDataset element_spec=(TensorSpec(shape=(None, 224, 224, 3), dtype=tf.float32, name=None), TensorSpec(shape=(None,), dtype=tf.int32, name=None))>\n",
            "<_PrefetchDataset element_spec=(TensorSpec(shape=(None, 224, 224, 3), dtype=tf.float32, name=None), TensorSpec(shape=(None,), dtype=tf.int32, name=None))>\n"
          ]
        }
      ],
      "source": [
        "print(train_dataset)\n",
        "print(validation_dataset)"
      ]
    },
    {
      "cell_type": "code",
      "execution_count": null,
      "metadata": {
        "colab": {
          "base_uri": "https://localhost:8080/"
        },
        "id": "0LtIUZbgtv2_",
        "outputId": "76e2aa57-9417-400b-c419-d2e946f6b7fb"
      },
      "outputs": [
        {
          "output_type": "stream",
          "name": "stdout",
          "text": [
            "['first_pages', 'other_pages']\n"
          ]
        }
      ],
      "source": [
        "class_names = train_dataset.class_names\n",
        "print(class_names)\n",
        "\n",
        "plt.figure(figsize=(10, 10))\n",
        "for images, labels in train_dataset.take(1):\n",
        "    for i in range(9):\n",
        "        ax = plt.subplot(3, 3, i + 1)\n",
        "        plt.imshow(images[i].numpy().astype(\"uint8\"))\n",
        "        plt.title(class_names[labels[i]])\n",
        "        plt.axis(\"off\")"
      ]
    },
    {
      "cell_type": "markdown",
      "metadata": {
        "id": "Ora5t5pnz_kv"
      },
      "source": [
        "# Loading Data with Generator\n"
      ]
    },
    {
      "cell_type": "code",
      "execution_count": 6,
      "metadata": {
        "id": "6J8Qq9Hn0jlX"
      },
      "outputs": [],
      "source": [
        "# create a data generator\n",
        "datagen = tf.keras.preprocessing.image.ImageDataGenerator(rescale=1./255)"
      ]
    },
    {
      "cell_type": "code",
      "execution_count": 7,
      "metadata": {
        "colab": {
          "base_uri": "https://localhost:8080/"
        },
        "id": "ntHSkH8ZIPDI",
        "outputId": "c4dd0639-ed83-4ece-b12c-1a01a8436d14"
      },
      "outputs": [
        {
          "output_type": "stream",
          "name": "stdout",
          "text": [
            "Found 5056 images belonging to 2 classes.\n"
          ]
        }
      ],
      "source": [
        "train_it = datagen.flow_from_directory('/content/drive/MyDrive/Articles_Seperation_DL/Split_Data/Train/',\n",
        "                                       class_mode='binary',target_size=(224, 224),\n",
        "                                       batch_size=32, color_mode=\"grayscale\")"
      ]
    },
    {
      "cell_type": "code",
      "execution_count": 8,
      "metadata": {
        "colab": {
          "base_uri": "https://localhost:8080/"
        },
        "id": "EW_BR0nDImhz",
        "outputId": "9b01bb7c-0326-4b3a-cf6a-a61ffdc15ab6"
      },
      "outputs": [
        {
          "output_type": "stream",
          "name": "stdout",
          "text": [
            "Found 1024 images belonging to 2 classes.\n"
          ]
        }
      ],
      "source": [
        "test_it =datagen.flow_from_directory('/content/drive/MyDrive/Articles_Seperation_DL/Split_Data/Test/',\n",
        "                                     class_mode='binary',target_size=(224, 224),\n",
        "                                     batch_size=32, color_mode=\"grayscale\")"
      ]
    },
    {
      "cell_type": "markdown",
      "metadata": {
        "id": "I5LrnQMDsNdP"
      },
      "source": [
        "# Model\n"
      ]
    },
    {
      "cell_type": "code",
      "execution_count": 17,
      "metadata": {
        "id": "hYyGjAHaXld1"
      },
      "outputs": [],
      "source": [
        "# Define the model\n",
        "model = tf.keras.Sequential()\n",
        "\n",
        "# Ad a resize layer\n",
        "# model.add(layers.)\n",
        "\n",
        "# Add a convolutional layer with 64 filters, a 3x3 kernel, and 'relu' activation\n",
        "model.add(layers.Conv2D(64, (3, 3), activation='relu', input_shape=(224, 224, 3)))\n",
        "\n",
        "# Add a max pooling layer with 2x2 pool size\n",
        "model.add(layers.MaxPooling2D((2, 2)))\n",
        "\n",
        "# Add another convolutional layer with 64 filters and 'relu' activation\n",
        "model.add(layers.Conv2D(64, (3, 3), activation='relu'))\n",
        "\n",
        "# Flatten the output from the previous layer\n",
        "model.add(layers.Flatten())\n",
        "\n",
        "# Add a dense (fully connected) layer with 32 units and 'relu' activation\n",
        "model.add(layers.Dense(32, activation='relu'))\n",
        "\n",
        "# Add an output layer with 1 unit and 'sigmoid' activation for binary classification\n",
        "model.add(layers.Dense(1, activation='sigmoid'))\n",
        "\n",
        "# Compile the model\n",
        "model.compile(optimizer='adam', loss='binary_crossentropy', metrics=['accuracy'])\n"
      ]
    },
    {
      "cell_type": "code",
      "execution_count": 18,
      "metadata": {
        "id": "KFUlSITQXlgt"
      },
      "outputs": [],
      "source": [
        "# Define the number of epochs and batch size\n",
        "epochs = 10\n",
        "batch_size = 32"
      ]
    },
    {
      "cell_type": "code",
      "execution_count": 11,
      "metadata": {
        "id": "6Q-5X08eQARu",
        "colab": {
          "base_uri": "https://localhost:8080/"
        },
        "outputId": "59a72278-78a7-467d-dbe1-39c0680fc7b9"
      },
      "outputs": [
        {
          "output_type": "stream",
          "name": "stdout",
          "text": [
            "Batch shape=(32, 224, 224, 1), min=0.000, max=1.000\n"
          ]
        }
      ],
      "source": [
        "# confirm the iterator works\n",
        "batchX, batchy = train_it.next()\n",
        "print('Batch shape=%s, min=%.3f, max=%.3f' % (batchX.shape, batchX.min(), batchX.max()))"
      ]
    },
    {
      "cell_type": "code",
      "execution_count": 19,
      "metadata": {
        "colab": {
          "base_uri": "https://localhost:8080/"
        },
        "id": "BY13MOIdOmcR",
        "outputId": "7648b757-486f-4723-884b-e7d9e29f2d3b"
      },
      "outputs": [
        {
          "output_type": "stream",
          "name": "stdout",
          "text": [
            "Epoch 1/10\n",
            "26/26 [==============================] - 293s 10s/step - loss: 166.5898 - accuracy: 0.6634 - val_loss: 1.1068 - val_accuracy: 0.8578\n",
            "Epoch 2/10\n",
            "26/26 [==============================] - 3s 106ms/step - loss: 0.6700 - accuracy: 0.8756 - val_loss: 0.8080 - val_accuracy: 0.8627\n",
            "Epoch 3/10\n",
            "26/26 [==============================] - 2s 80ms/step - loss: 0.6588 - accuracy: 0.8768 - val_loss: 0.6424 - val_accuracy: 0.8627\n",
            "Epoch 4/10\n",
            "26/26 [==============================] - 3s 85ms/step - loss: 0.6255 - accuracy: 0.8793 - val_loss: 0.6023 - val_accuracy: 0.8480\n",
            "Epoch 5/10\n",
            "26/26 [==============================] - 2s 82ms/step - loss: 0.5619 - accuracy: 0.8720 - val_loss: 0.6007 - val_accuracy: 0.8627\n",
            "Epoch 6/10\n",
            "26/26 [==============================] - 3s 101ms/step - loss: 0.5846 - accuracy: 0.8780 - val_loss: 0.5803 - val_accuracy: 0.8627\n",
            "Epoch 7/10\n",
            "26/26 [==============================] - 3s 104ms/step - loss: 0.5635 - accuracy: 0.8780 - val_loss: 0.5609 - val_accuracy: 0.8627\n",
            "Epoch 8/10\n",
            "26/26 [==============================] - 3s 81ms/step - loss: 0.5439 - accuracy: 0.8780 - val_loss: 0.5431 - val_accuracy: 0.8627\n",
            "Epoch 9/10\n",
            "26/26 [==============================] - 3s 82ms/step - loss: 0.5258 - accuracy: 0.8780 - val_loss: 0.5265 - val_accuracy: 0.8627\n",
            "Epoch 10/10\n",
            "26/26 [==============================] - 3s 121ms/step - loss: 0.5090 - accuracy: 0.8780 - val_loss: 0.5112 - val_accuracy: 0.8627\n",
            "Model: \"sequential_1\"\n",
            "_________________________________________________________________\n",
            " Layer (type)                Output Shape              Param #   \n",
            "=================================================================\n",
            " conv2d_2 (Conv2D)           (None, 222, 222, 64)      1792      \n",
            "                                                                 \n",
            " max_pooling2d_1 (MaxPooling  (None, 111, 111, 64)     0         \n",
            " 2D)                                                             \n",
            "                                                                 \n",
            " conv2d_3 (Conv2D)           (None, 109, 109, 64)      36928     \n",
            "                                                                 \n",
            " flatten_1 (Flatten)         (None, 760384)            0         \n",
            "                                                                 \n",
            " dense_2 (Dense)             (None, 32)                24332320  \n",
            "                                                                 \n",
            " dense_3 (Dense)             (None, 1)                 33        \n",
            "                                                                 \n",
            "=================================================================\n",
            "Total params: 24,371,073\n",
            "Trainable params: 24,371,073\n",
            "Non-trainable params: 0\n",
            "_________________________________________________________________\n",
            "None\n"
          ]
        }
      ],
      "source": [
        "# Train the model\n",
        "model.fit(train_dataset,\n",
        "          validation_data=validation_dataset,\n",
        "          epochs=10)\n",
        "\n",
        "# Evaluate the model on the test data\n",
        "# loss = model.evaluate_generator(test_it, steps=16)\n",
        "\n",
        "# Print the model summary\n",
        "print(model.summary())"
      ]
    },
    {
      "cell_type": "code",
      "execution_count": null,
      "metadata": {
        "id": "9aNuq7psO71U"
      },
      "outputs": [],
      "source": [
        "# Save the model to h5 file\n",
        "model.save('/content/drive/MyDrive/Articles_Seperation_DL/model_5.h5')"
      ]
    },
    {
      "cell_type": "code",
      "execution_count": null,
      "metadata": {
        "id": "eW1GSM9ypvHK"
      },
      "outputs": [],
      "source": [
        "# Load the model\n",
        "model = tf.keras.models.load_model('/content/drive/MyDrive/Articles_Seperation_DL/model_5.h5')"
      ]
    },
    {
      "cell_type": "code",
      "execution_count": null,
      "metadata": {
        "colab": {
          "base_uri": "https://localhost:8080/",
          "height": 166
        },
        "id": "muoE8ouWe7j7",
        "outputId": "ce048192-a02f-4e98-a9b7-5cc084a389fa"
      },
      "outputs": [
        {
          "ename": "NameError",
          "evalue": "ignored",
          "output_type": "error",
          "traceback": [
            "\u001b[0;31m---------------------------------------------------------------------------\u001b[0m",
            "\u001b[0;31mNameError\u001b[0m                                 Traceback (most recent call last)",
            "\u001b[0;32m<ipython-input-78-8c747382be43>\u001b[0m in \u001b[0;36m<cell line: 1>\u001b[0;34m()\u001b[0m\n\u001b[0;32m----> 1\u001b[0;31m \u001b[0my_test_pred\u001b[0m \u001b[0;34m=\u001b[0m \u001b[0mmodel\u001b[0m\u001b[0;34m.\u001b[0m\u001b[0mpredict\u001b[0m\u001b[0;34m(\u001b[0m\u001b[0mX_test\u001b[0m\u001b[0;34m)\u001b[0m\u001b[0;34m.\u001b[0m\u001b[0mreshape\u001b[0m\u001b[0;34m(\u001b[0m\u001b[0;34m-\u001b[0m\u001b[0;36m1\u001b[0m\u001b[0;34m)\u001b[0m\u001b[0;34m\u001b[0m\u001b[0;34m\u001b[0m\u001b[0m\n\u001b[0m",
            "\u001b[0;31mNameError\u001b[0m: name 'X_test' is not defined"
          ]
        }
      ],
      "source": [
        "y_test_pred = model.predict(train_dataset).reshape(-1)\n"
      ]
    },
    {
      "cell_type": "code",
      "execution_count": null,
      "metadata": {
        "id": "pdZhPpx5fcj-"
      },
      "outputs": [],
      "source": [
        "y_test_pred_classes = (y_test_pred > 0.5)"
      ]
    },
    {
      "cell_type": "code",
      "execution_count": null,
      "metadata": {
        "id": "-03repKmfcmb"
      },
      "outputs": [],
      "source": [
        "mistakes = np.where(y_test != y_test_pred_classes)[0]"
      ]
    },
    {
      "cell_type": "code",
      "execution_count": null,
      "metadata": {
        "id": "NB8Qtj5lfcp0"
      },
      "outputs": [],
      "source": [
        "mistakes_images = X_test[mistakes, :, :, :]"
      ]
    },
    {
      "cell_type": "code",
      "execution_count": null,
      "metadata": {
        "colab": {
          "base_uri": "https://localhost:8080/"
        },
        "id": "8Sm9mOX3gffm",
        "outputId": "47e42737-9f88-4c98-edd3-6bbe7c313d25"
      },
      "outputs": [
        {
          "name": "stdout",
          "output_type": "stream",
          "text": [
            "(32, 224, 224, 1)\n"
          ]
        }
      ],
      "source": [
        "print(mistakes_images.shape)"
      ]
    },
    {
      "cell_type": "code",
      "execution_count": null,
      "metadata": {
        "id": "ah4FrZBxg_vP"
      },
      "outputs": [],
      "source": [
        "tru_labels_of_mistakes = y_test[mistakes]"
      ]
    },
    {
      "cell_type": "code",
      "execution_count": null,
      "metadata": {
        "colab": {
          "base_uri": "https://localhost:8080/",
          "height": 218
        },
        "id": "xcZRYiFBiB4y",
        "outputId": "e7b84328-9fdc-4caf-a1b5-2e78f0c9da09"
      },
      "outputs": [
        {
          "name": "stdout",
          "output_type": "stream",
          "text": [
            "\n"
          ]
        },
        {
          "ename": "NameError",
          "evalue": "ignored",
          "output_type": "error",
          "traceback": [
            "\u001b[0;31m---------------------------------------------------------------------------\u001b[0m",
            "\u001b[0;31mNameError\u001b[0m                                 Traceback (most recent call last)",
            "\u001b[0;32m<ipython-input-9-8feff86efb33>\u001b[0m in \u001b[0;36m<cell line: 2>\u001b[0;34m()\u001b[0m\n\u001b[1;32m      1\u001b[0m \u001b[0mprint\u001b[0m\u001b[0;34m(\u001b[0m\u001b[0;34m)\u001b[0m\u001b[0;34m\u001b[0m\u001b[0;34m\u001b[0m\u001b[0m\n\u001b[0;32m----> 2\u001b[0;31m \u001b[0mimg\u001b[0m \u001b[0;34m=\u001b[0m \u001b[0mImage\u001b[0m\u001b[0;34m.\u001b[0m\u001b[0mfromarray\u001b[0m\u001b[0;34m(\u001b[0m\u001b[0mmistakes_images\u001b[0m\u001b[0;34m[\u001b[0m\u001b[0;36m13\u001b[0m\u001b[0;34m]\u001b[0m\u001b[0;34m.\u001b[0m\u001b[0mreshape\u001b[0m\u001b[0;34m(\u001b[0m\u001b[0;36m224\u001b[0m\u001b[0;34m,\u001b[0m \u001b[0;36m224\u001b[0m\u001b[0;34m)\u001b[0m\u001b[0;34m,\u001b[0m \u001b[0mmode\u001b[0m\u001b[0;34m=\u001b[0m\u001b[0;34m'L'\u001b[0m\u001b[0;34m)\u001b[0m\u001b[0;34m\u001b[0m\u001b[0;34m\u001b[0m\u001b[0m\n\u001b[0m\u001b[1;32m      3\u001b[0m \u001b[0mimg\u001b[0m\u001b[0;34m.\u001b[0m\u001b[0mshow\u001b[0m\u001b[0;34m(\u001b[0m\u001b[0;34m)\u001b[0m\u001b[0;34m\u001b[0m\u001b[0;34m\u001b[0m\u001b[0m\n",
            "\u001b[0;31mNameError\u001b[0m: name 'mistakes_images' is not defined"
          ]
        }
      ],
      "source": [
        "print()\n",
        "img = Image.fromarray(mistakes_images[1].reshape(224, 224), mode='L')\n",
        "img.show()"
      ]
    },
    {
      "cell_type": "code",
      "execution_count": null,
      "metadata": {
        "id": "9MrNJ76mgfiT"
      },
      "outputs": [],
      "source": [
        "for i in range(len(mistakes)):\n",
        "    img = Image.fromarray(mistakes_images[i].reshape(224, 224) * 255, mode='L')\n",
        "    img.save('/content/drive/MyDrive/Articles_Seperation_DL/'\n",
        "     + str(i) + 'true label' + str(tru_labels_of_mistakes[i]) + '.png')"
      ]
    },
    {
      "cell_type": "code",
      "execution_count": null,
      "metadata": {
        "id": "o7kF7WqngflJ"
      },
      "outputs": [],
      "source": []
    },
    {
      "cell_type": "code",
      "execution_count": null,
      "metadata": {
        "id": "BVEUrsT0gfnj"
      },
      "outputs": [],
      "source": []
    },
    {
      "cell_type": "code",
      "execution_count": null,
      "metadata": {
        "colab": {
          "base_uri": "https://localhost:8080/"
        },
        "id": "1oPva21lX3_x",
        "outputId": "1248c4ca-d4f8-4803-c2f8-fd64635636d3"
      },
      "outputs": [
        {
          "name": "stdout",
          "output_type": "stream",
          "text": [
            "All changes made in this colab session should now be visible in Drive.\n"
          ]
        }
      ],
      "source": [
        "drive.flush_and_unmount()\n",
        "print('All changes made in this colab session should now be visible in Drive.')"
      ]
    },
    {
      "cell_type": "code",
      "execution_count": null,
      "metadata": {
        "id": "utz58YZCupNA"
      },
      "outputs": [],
      "source": []
    }
  ],
  "metadata": {
    "accelerator": "GPU",
    "colab": {
      "collapsed_sections": [
        "Ora5t5pnz_kv"
      ],
      "provenance": []
    },
    "kernelspec": {
      "display_name": "Python 3",
      "name": "python3"
    },
    "language_info": {
      "name": "python"
    }
  },
  "nbformat": 4,
  "nbformat_minor": 0
}